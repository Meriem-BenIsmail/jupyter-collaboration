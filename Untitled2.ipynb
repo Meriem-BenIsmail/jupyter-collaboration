{
 "cells": [
  {
   "cell_type": "code",
   "execution_count": 1,
   "id": "41b1c965-9026-49b4-abe0-4b4fd992603a",
   "metadata": {},
   "outputs": [],
   "source": [
    "a =0"
   ]
  },
  {
   "cell_type": "code",
   "execution_count": 2,
   "id": "f98b43a3-d0a4-4f68-b329-4eca3d90745b",
   "metadata": {},
   "outputs": [
    {
     "data": {
      "text/plain": [
       "0"
      ]
     },
     "execution_count": 2,
     "metadata": {},
     "output_type": "execute_result"
    }
   ],
   "source": [
    "a"
   ]
  },
  {
   "cell_type": "code",
   "execution_count": null,
   "id": "7ad744fa-2a6b-4cf3-bc9b-b9d79d7bf981",
   "metadata": {},
   "outputs": [],
   "source": []
  }
 ],
 "metadata": {
  "kernelspec": {
   "display_name": "Python 3 (ipykernel)",
   "language": "python",
   "name": "python3"
  },
  "language_info": {
   "codemirror_mode": {
    "name": "ipython",
    "version": 3
   },
   "file_extension": ".py",
   "mimetype": "text/x-python",
   "name": "python",
   "nbconvert_exporter": "python",
   "pygments_lexer": "ipython3",
   "version": "3.13.1"
  }
 },
 "nbformat": 4,
 "nbformat_minor": 5
}
